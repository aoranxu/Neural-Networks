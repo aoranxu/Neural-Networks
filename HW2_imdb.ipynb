{
  "nbformat": 4,
  "nbformat_minor": 0,
  "metadata": {
    "colab": {
      "name": "HW2.ipynb",
      "version": "0.3.2",
      "provenance": [],
      "include_colab_link": true
    },
    "kernelspec": {
      "name": "python3",
      "display_name": "Python 3"
    }
  },
  "cells": [
    {
      "cell_type": "markdown",
      "metadata": {
        "id": "view-in-github",
        "colab_type": "text"
      },
      "source": [
        "<a href=\"https://colab.research.google.com/github/aoranxu/Neural-Networks/blob/master/HW2_imdb.ipynb\" target=\"_parent\"><img src=\"https://colab.research.google.com/assets/colab-badge.svg\" alt=\"Open In Colab\"/></a>"
      ]
    },
    {
      "metadata": {
        "id": "iaqe1Xt4w4kA",
        "colab_type": "code",
        "colab": {
          "base_uri": "https://localhost:8080/",
          "height": 68
        },
        "outputId": "350c950e-cd8b-435f-8dbd-92fd54365fef"
      },
      "cell_type": "code",
      "source": [
        "#Loading the IMDB dataset\n",
        "from keras.datasets import imdb\n",
        "(train_data, train_labels), (test_data, test_labels) = imdb.load_data(num_words=10000)"
      ],
      "execution_count": 1,
      "outputs": [
        {
          "output_type": "stream",
          "text": [
            "Using TensorFlow backend.\n"
          ],
          "name": "stderr"
        },
        {
          "output_type": "stream",
          "text": [
            "Downloading data from https://s3.amazonaws.com/text-datasets/imdb.npz\n",
            "17465344/17464789 [==============================] - 1s 0us/step\n"
          ],
          "name": "stdout"
        }
      ]
    },
    {
      "metadata": {
        "id": "BKhh3izxyX3F",
        "colab_type": "code",
        "colab": {
          "base_uri": "https://localhost:8080/",
          "height": 34
        },
        "outputId": "76aa7b70-e3a1-4ee2-ef58-1507c7cca9af"
      },
      "cell_type": "code",
      "source": [
        "#A look at the training data and labels\n",
        "train_data[0]\n",
        "train_labels[0]"
      ],
      "execution_count": 6,
      "outputs": [
        {
          "output_type": "execute_result",
          "data": {
            "text/plain": [
              "1"
            ]
          },
          "metadata": {
            "tags": []
          },
          "execution_count": 6
        }
      ]
    },
    {
      "metadata": {
        "id": "GXd67RXBzETi",
        "colab_type": "code",
        "colab": {
          "base_uri": "https://localhost:8080/",
          "height": 34
        },
        "outputId": "36f9bb4b-ff40-4783-f70f-78c8f7f5eff9"
      },
      "cell_type": "code",
      "source": [
        "#A look at the training data\n",
        "max([max(sequence) for sequence in train_data])"
      ],
      "execution_count": 11,
      "outputs": [
        {
          "output_type": "execute_result",
          "data": {
            "text/plain": [
              "9999"
            ]
          },
          "metadata": {
            "tags": []
          },
          "execution_count": 11
        }
      ]
    },
    {
      "metadata": {
        "id": "4b1aaE5PziKP",
        "colab_type": "code",
        "colab": {
          "base_uri": "https://localhost:8080/",
          "height": 51
        },
        "outputId": "5613cff7-5b08-430d-ba8b-a425ec39e946"
      },
      "cell_type": "code",
      "source": [
        "# word_index is a dictionary mapping words to an integer index\n",
        "word_index = imdb.get_word_index()\n",
        "# We reverse it, mapping integer indices to words\n",
        "reverse_word_index = dict([(value, key) for (key, value) in word_index.items()])\n",
        "# We decode the review; note that our indices were offset by 3\n",
        "# because 0, 1 and 2 are reserved indices for \"padding\", \"start of sequence\", and \"unknown\".\n",
        "decoded_review = ' '.join([reverse_word_index.get(i - 3, '?') for i in train_data[0]])"
      ],
      "execution_count": 12,
      "outputs": [
        {
          "output_type": "stream",
          "text": [
            "Downloading data from https://s3.amazonaws.com/text-datasets/imdb_word_index.json\n",
            "1646592/1641221 [==============================] - 0s 0us/step\n"
          ],
          "name": "stdout"
        }
      ]
    },
    {
      "metadata": {
        "id": "nF0iUbPy0V7N",
        "colab_type": "code",
        "colab": {}
      },
      "cell_type": "code",
      "source": [
        "import numpy as np\n",
        "def vectorize_sequences(sequences, dimension=10000):\n",
        "    # Create an all-zero matrix of shape (len(sequences), dimension)\n",
        "    results = np.zeros((len(sequences), dimension))\n",
        "#     print (sequences)\n",
        "    for i, sequence in enumerate(sequences):\n",
        "#         print (i, sequence)\n",
        "        results[i, sequence] = 1.  # set specific indices of results[i] to 1s\n",
        "    return results\n",
        "# Our vectorized training data\n",
        "x_train = vectorize_sequences(train_data)\n",
        "# Our vectorized test data\n",
        "x_test = vectorize_sequences(test_data)"
      ],
      "execution_count": 0,
      "outputs": []
    },
    {
      "metadata": {
        "id": "VwVrhmZ63q8d",
        "colab_type": "code",
        "colab": {}
      },
      "cell_type": "code",
      "source": [
        "# Our vectorized labels\n",
        "y_train = np.asarray(train_labels).astype('float32')\n",
        "y_test = np.asarray(test_labels).astype('float32')"
      ],
      "execution_count": 0,
      "outputs": []
    },
    {
      "metadata": {
        "id": "W8Deaa1c3v_8",
        "colab_type": "code",
        "colab": {
          "base_uri": "https://localhost:8080/",
          "height": 88
        },
        "outputId": "d3172023-eae3-48ef-fca3-b5c0b921f850"
      },
      "cell_type": "code",
      "source": [
        "#Our model definition\n",
        "from keras import models\n",
        "from keras import layers\n",
        "model = models.Sequential()\n",
        "model.add(layers.Dense(16, activation='relu', input_shape=(10000,)))\n",
        "model.add(layers.Dense(16, activation='relu'))\n",
        "model.add(layers.Dense(1, activation='sigmoid'))"
      ],
      "execution_count": 21,
      "outputs": [
        {
          "output_type": "stream",
          "text": [
            "WARNING:tensorflow:From /usr/local/lib/python3.6/dist-packages/tensorflow/python/framework/op_def_library.py:263: colocate_with (from tensorflow.python.framework.ops) is deprecated and will be removed in a future version.\n",
            "Instructions for updating:\n",
            "Colocations handled automatically by placer.\n"
          ],
          "name": "stdout"
        }
      ]
    },
    {
      "metadata": {
        "id": "lPHq-Ux12DzM",
        "colab_type": "code",
        "colab": {}
      },
      "cell_type": "code",
      "source": [
        "#Compiling our model\n",
        " model.compile(optimizer='rmsprop',\n",
        "              loss='binary_crossentropy',\n",
        "              metrics=['accuracy'])"
      ],
      "execution_count": 0,
      "outputs": []
    },
    {
      "metadata": {
        "id": "_OIWS6ve8uOK",
        "colab_type": "code",
        "colab": {}
      },
      "cell_type": "code",
      "source": [
        "#Configuring the optimizer\n",
        "from keras import optimizers\n",
        "model.compile(optimizer=optimizers.RMSprop(lr=0.001),\n",
        "              loss='binary_crossentropy',\n",
        "              metrics=['accuracy'])"
      ],
      "execution_count": 0,
      "outputs": []
    },
    {
      "metadata": {
        "id": "kPygr-2b86zE",
        "colab_type": "code",
        "colab": {}
      },
      "cell_type": "code",
      "source": [
        "#Using custom losses and metrics\n",
        "from keras import losses\n",
        "from keras import metrics\n",
        "model.compile(optimizer=optimizers.RMSprop(lr=0.001),\n",
        "              loss=losses.binary_crossentropy,\n",
        "              metrics=[metrics.binary_accuracy])"
      ],
      "execution_count": 0,
      "outputs": []
    },
    {
      "metadata": {
        "id": "-LA3crPA9BLu",
        "colab_type": "code",
        "colab": {}
      },
      "cell_type": "code",
      "source": [
        "#Setting aside a validation set\n",
        "x_val = x_train[:10000]\n",
        "partial_x_train = x_train[10000:]\n",
        "y_val = y_train[:10000]\n",
        "partial_y_train = y_train[10000:]"
      ],
      "execution_count": 0,
      "outputs": []
    },
    {
      "metadata": {
        "id": "pQRnppiF9H4r",
        "colab_type": "code",
        "colab": {
          "base_uri": "https://localhost:8080/",
          "height": 785
        },
        "outputId": "67edc91f-fd6c-44c6-955d-826ad6517416"
      },
      "cell_type": "code",
      "source": [
        "#Training our model\n",
        " history = model.fit(partial_x_train,\n",
        "                    partial_y_train,\n",
        "                    epochs=20,\n",
        "                    batch_size=512,\n",
        "                    validation_data=(x_val, y_val))"
      ],
      "execution_count": 27,
      "outputs": [
        {
          "output_type": "stream",
          "text": [
            "WARNING:tensorflow:From /usr/local/lib/python3.6/dist-packages/tensorflow/python/ops/math_ops.py:3066: to_int32 (from tensorflow.python.ops.math_ops) is deprecated and will be removed in a future version.\n",
            "Instructions for updating:\n",
            "Use tf.cast instead.\n",
            "Train on 15000 samples, validate on 10000 samples\n",
            "Epoch 1/20\n",
            "15000/15000 [==============================] - 4s 244us/step - loss: 0.5087 - binary_accuracy: 0.7813 - val_loss: 0.3801 - val_binary_accuracy: 0.8695\n",
            "Epoch 2/20\n",
            "15000/15000 [==============================] - 3s 194us/step - loss: 0.3008 - binary_accuracy: 0.9051 - val_loss: 0.3006 - val_binary_accuracy: 0.8899\n",
            "Epoch 3/20\n",
            "15000/15000 [==============================] - 3s 193us/step - loss: 0.2181 - binary_accuracy: 0.9279 - val_loss: 0.3085 - val_binary_accuracy: 0.8719\n",
            "Epoch 4/20\n",
            "15000/15000 [==============================] - 3s 195us/step - loss: 0.1751 - binary_accuracy: 0.9432 - val_loss: 0.2840 - val_binary_accuracy: 0.8838\n",
            "Epoch 5/20\n",
            "15000/15000 [==============================] - 3s 193us/step - loss: 0.1427 - binary_accuracy: 0.9541 - val_loss: 0.2847 - val_binary_accuracy: 0.8865\n",
            "Epoch 6/20\n",
            "15000/15000 [==============================] - 3s 192us/step - loss: 0.1150 - binary_accuracy: 0.9653 - val_loss: 0.3152 - val_binary_accuracy: 0.8773\n",
            "Epoch 7/20\n",
            "15000/15000 [==============================] - 3s 190us/step - loss: 0.0980 - binary_accuracy: 0.9703 - val_loss: 0.3128 - val_binary_accuracy: 0.8843\n",
            "Epoch 8/20\n",
            "15000/15000 [==============================] - 3s 191us/step - loss: 0.0807 - binary_accuracy: 0.9764 - val_loss: 0.3851 - val_binary_accuracy: 0.8654\n",
            "Epoch 9/20\n",
            "15000/15000 [==============================] - 3s 191us/step - loss: 0.0661 - binary_accuracy: 0.9823 - val_loss: 0.3633 - val_binary_accuracy: 0.8783\n",
            "Epoch 10/20\n",
            "15000/15000 [==============================] - 3s 190us/step - loss: 0.0558 - binary_accuracy: 0.9852 - val_loss: 0.3841 - val_binary_accuracy: 0.8791\n",
            "Epoch 11/20\n",
            "15000/15000 [==============================] - 3s 190us/step - loss: 0.0451 - binary_accuracy: 0.9887 - val_loss: 0.4160 - val_binary_accuracy: 0.8768\n",
            "Epoch 12/20\n",
            "15000/15000 [==============================] - 3s 191us/step - loss: 0.0385 - binary_accuracy: 0.9914 - val_loss: 0.4503 - val_binary_accuracy: 0.8698\n",
            "Epoch 13/20\n",
            "15000/15000 [==============================] - 3s 191us/step - loss: 0.0300 - binary_accuracy: 0.9930 - val_loss: 0.4694 - val_binary_accuracy: 0.8731\n",
            "Epoch 14/20\n",
            "15000/15000 [==============================] - 3s 191us/step - loss: 0.0246 - binary_accuracy: 0.9948 - val_loss: 0.5023 - val_binary_accuracy: 0.8718\n",
            "Epoch 15/20\n",
            "15000/15000 [==============================] - 3s 192us/step - loss: 0.0174 - binary_accuracy: 0.9982 - val_loss: 0.5632 - val_binary_accuracy: 0.8645\n",
            "Epoch 16/20\n",
            "15000/15000 [==============================] - 3s 190us/step - loss: 0.0177 - binary_accuracy: 0.9964 - val_loss: 0.5767 - val_binary_accuracy: 0.8705\n",
            "Epoch 17/20\n",
            "15000/15000 [==============================] - 3s 193us/step - loss: 0.0091 - binary_accuracy: 0.9994 - val_loss: 0.6071 - val_binary_accuracy: 0.8687\n",
            "Epoch 18/20\n",
            "15000/15000 [==============================] - 3s 191us/step - loss: 0.0106 - binary_accuracy: 0.9983 - val_loss: 0.6397 - val_binary_accuracy: 0.8672\n",
            "Epoch 19/20\n",
            "15000/15000 [==============================] - 3s 192us/step - loss: 0.0113 - binary_accuracy: 0.9973 - val_loss: 0.6808 - val_binary_accuracy: 0.8657\n",
            "Epoch 20/20\n",
            "15000/15000 [==============================] - 3s 191us/step - loss: 0.0040 - binary_accuracy: 0.9999 - val_loss: 0.6940 - val_binary_accuracy: 0.8656\n"
          ],
          "name": "stdout"
        }
      ]
    },
    {
      "metadata": {
        "id": "b5dK8VFB9Tze",
        "colab_type": "code",
        "colab": {
          "base_uri": "https://localhost:8080/",
          "height": 34
        },
        "outputId": "1384b98a-d77a-43c5-8498-6ea6097c3e68"
      },
      "cell_type": "code",
      "source": [
        "#The history dictionary\n",
        "history_dict = history.history\n",
        "history_dict.keys()"
      ],
      "execution_count": 28,
      "outputs": [
        {
          "output_type": "execute_result",
          "data": {
            "text/plain": [
              "dict_keys(['val_loss', 'val_binary_accuracy', 'loss', 'binary_accuracy'])"
            ]
          },
          "metadata": {
            "tags": []
          },
          "execution_count": 28
        }
      ]
    },
    {
      "metadata": {
        "id": "ZBKTkKLh9jBp",
        "colab_type": "code",
        "colab": {
          "base_uri": "https://localhost:8080/",
          "height": 376
        },
        "outputId": "ff01f6c1-b9d9-4e89-a1cb-54ed899ac79e"
      },
      "cell_type": "code",
      "source": [
        "#Plotting the training and validation loss\n",
        "import matplotlib.pyplot as plt\n",
        "acc = history.history['binary_accuracy']\n",
        "val_acc = history.history['val_binary_accuracy']\n",
        "loss = history.history['loss']\n",
        "val_loss = history.history['val_loss']\n",
        "epochs = range(1, len(acc) + 1)\n",
        "# \"bo\" is for \"blue dot\"\n",
        "plt.plot(epochs, loss, 'bo', label='Training loss')\n",
        "# b is for \"solid blue line\"\n",
        "plt.plot(epochs, val_loss, 'b', label='Validation loss')\n",
        "plt.title('Training and validation loss')\n",
        "plt.xlabel('Epochs')\n",
        "plt.ylabel('Loss')\n",
        "plt.legend()\n",
        "plt.show()"
      ],
      "execution_count": 30,
      "outputs": [
        {
          "output_type": "display_data",
          "data": {
            "image/png": "[encoded data removed]",
            "text/plain": [
              "<Figure size 576x396 with 1 Axes>"
            ]
          },
          "metadata": {
            "tags": []
          }
        }
      ]
    },
    {
      "metadata": {
        "id": "YkwxRmO0-KdF",
        "colab_type": "code",
        "colab": {
          "base_uri": "https://localhost:8080/",
          "height": 376
        },
        "outputId": "5781632b-dae3-4b49-b348-3f33dcd37b8e"
      },
      "cell_type": "code",
      "source": [
        "#Plotting the training and validation loss\n",
        "import matplotlib.pyplot as plt\n",
        "acc = history.history['binary_accuracy']\n",
        "val_acc = history.history['val_binary_accuracy']\n",
        "loss = history.history['loss']\n",
        "val_loss = history.history['val_loss']\n",
        "epochs = range(1, len(acc) + 1)\n",
        "# \"bo\" is for \"blue dot\"\n",
        "plt.plot(epochs, loss, 'bo', label='Training loss')\n",
        "# b is for \"solid blue line\"\n",
        "plt.plot(epochs, val_loss, 'b', label='Validation loss')\n",
        "plt.title('Training and validation loss')\n",
        "plt.xlabel('Epochs')\n",
        "plt.ylabel('Loss')\n",
        "plt.legend()\n",
        "plt.show()"
      ],
      "execution_count": 31,
      "outputs": [
        {
          "output_type": "display_data",
          "data": {
            "image/png": "[encoded data removed]",
            "text/plain": [
              "<Figure size 576x396 with 1 Axes>"
            ]
          },
          "metadata": {
            "tags": []
          }
        }
      ]
    },
    {
      "metadata": {
        "id": "SFG0RwKK-Xqf",
        "colab_type": "code",
        "colab": {
          "base_uri": "https://localhost:8080/",
          "height": 376
        },
        "outputId": "5767a0dd-d666-4ee4-d627-c945c11f7554"
      },
      "cell_type": "code",
      "source": [
        "#Plotting the training and validation accuracy\n",
        "plt.clf()   # clear figure\n",
        "acc_values = history_dict['binary_accuracy']\n",
        "val_acc_values = history_dict['val_binary_accuracy']\n",
        "plt.plot(epochs, acc, 'bo', label='Training acc')\n",
        "plt.plot(epochs, val_acc, 'b', label='Validation acc')\n",
        "plt.title('Training and validation accuracy')\n",
        "plt.xlabel('Epochs')\n",
        "plt.ylabel('Loss')\n",
        "plt.legend()\n",
        "plt.show()"
      ],
      "execution_count": 32,
      "outputs": [
        {
          "output_type": "display_data",
          "data": {
            "image/png": "[encoded data removed]",
            "text/plain": [
              "<Figure size 576x396 with 1 Axes>"
            ]
          },
          "metadata": {
            "tags": []
          }
        }
      ]
    },
    {
      "metadata": {
        "id": "FiVFYWAd-nRv",
        "colab_type": "code",
        "colab": {
          "base_uri": "https://localhost:8080/",
          "height": 170
        },
        "outputId": "0cddfc1d-ed24-456f-d378-0b7d362e6085"
      },
      "cell_type": "code",
      "source": [
        "#Re-training a model from scratch\n",
        "model = models.Sequential()\n",
        "model.add(layers.Dense(16, activation='relu', input_shape=(10000,)))\n",
        "model.add(layers.Dense(16, activation='relu'))\n",
        "model.add(layers.Dense(1, activation='sigmoid'))\n",
        "model.compile(optimizer='rmsprop',\n",
        "              loss='binary_crossentropy',\n",
        "              metrics=['accuracy'])\n",
        "model.fit(x_train, y_train, epochs=4, batch_size=512)\n",
        "results = model.evaluate(x_test, y_test)"
      ],
      "execution_count": 33,
      "outputs": [
        {
          "output_type": "stream",
          "text": [
            "Epoch 1/4\n",
            "25000/25000 [==============================] - 4s 146us/step - loss: 0.4746 - acc: 0.8218\n",
            "Epoch 2/4\n",
            "25000/25000 [==============================] - 4s 140us/step - loss: 0.2679 - acc: 0.9093\n",
            "Epoch 3/4\n",
            "25000/25000 [==============================] - 3s 139us/step - loss: 0.2033 - acc: 0.9282\n",
            "Epoch 4/4\n",
            "25000/25000 [==============================] - 3s 139us/step - loss: 0.1710 - acc: 0.9390\n",
            "25000/25000 [==============================] - 2s 83us/step\n"
          ],
          "name": "stdout"
        }
      ]
    },
    {
      "metadata": {
        "id": "Z5VDtqmr-tIG",
        "colab_type": "code",
        "colab": {
          "base_uri": "https://localhost:8080/",
          "height": 34
        },
        "outputId": "f3e635ba-ae7f-42ca-f057-710358258b03"
      },
      "cell_type": "code",
      "source": [
        "results"
      ],
      "execution_count": 34,
      "outputs": [
        {
          "output_type": "execute_result",
          "data": {
            "text/plain": [
              "[0.31271876770973206, 0.87572]"
            ]
          },
          "metadata": {
            "tags": []
          },
          "execution_count": 34
        }
      ]
    },
    {
      "metadata": {
        "id": "bJ26113--z29",
        "colab_type": "code",
        "colab": {
          "base_uri": "https://localhost:8080/",
          "height": 136
        },
        "outputId": "c828ea7d-3bc7-4b39-c96e-2525aac0da74"
      },
      "cell_type": "code",
      "source": [
        "#Generating predictions for new data\n",
        "model.predict(x_test)"
      ],
      "execution_count": 35,
      "outputs": [
        {
          "output_type": "execute_result",
          "data": {
            "text/plain": [
              "array([[0.16332468],\n",
              "       [0.99984854],\n",
              "       [0.39982986],\n",
              "       ...,\n",
              "       [0.08062166],\n",
              "       [0.04869828],\n",
              "       [0.4509181 ]], dtype=float32)"
            ]
          },
          "metadata": {
            "tags": []
          },
          "execution_count": 35
        }
      ]
    }
  ]
}